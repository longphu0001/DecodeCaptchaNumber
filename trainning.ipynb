{
 "cells": [
  {
   "cell_type": "code",
   "execution_count": 1,
   "metadata": {},
   "outputs": [],
   "source": [
    "import os\n",
    "import cv2"
   ]
  },
  {
   "cell_type": "code",
   "execution_count": 2,
   "metadata": {},
   "outputs": [],
   "source": [
    "base_url = \"datasets\"\n",
    "train_data = []\n",
    "train_label = []"
   ]
  },
  {
   "cell_type": "code",
   "execution_count": 3,
   "metadata": {},
   "outputs": [],
   "source": [
    "for i in [0,2,3,4,5,6,7,8,9]:\n",
    "    folder_url = base_url + \"/\" + str(i)\n",
    "    for r, d, f in os.walk(folder_url):\n",
    "        for file in f:\n",
    "            img = cv2.imread(os.path.join(r, file),0)\n",
    "            train_data.append(img)\n",
    "            train_label.append(i)"
   ]
  },
  {
   "cell_type": "code",
   "execution_count": 4,
   "metadata": {},
   "outputs": [
    {
     "data": {
      "text/plain": [
       "1423"
      ]
     },
     "execution_count": 4,
     "metadata": {},
     "output_type": "execute_result"
    }
   ],
   "source": [
    "len(train_data)"
   ]
  },
  {
   "cell_type": "code",
   "execution_count": 5,
   "metadata": {},
   "outputs": [
    {
     "data": {
      "text/plain": [
       "1423"
      ]
     },
     "execution_count": 5,
     "metadata": {},
     "output_type": "execute_result"
    }
   ],
   "source": [
    "len(train_label)"
   ]
  },
  {
   "cell_type": "code",
   "execution_count": 6,
   "metadata": {},
   "outputs": [],
   "source": [
    "import random\n",
    "import numpy as np"
   ]
  },
  {
   "cell_type": "code",
   "execution_count": 7,
   "metadata": {},
   "outputs": [],
   "source": [
    "shuffle_order = list(range(1200))\n",
    "random.shuffle(shuffle_order)\n",
    "\n",
    "train_data = np.array(train_data)\n",
    "train_label = np.array(train_label)\n",
    "\n",
    "train_data = train_data[shuffle_order]\n",
    "train_label = train_label[shuffle_order]"
   ]
  },
  {
   "cell_type": "code",
   "execution_count": 8,
   "metadata": {},
   "outputs": [],
   "source": [
    "train_x = train_data[:700]\n",
    "train_y = train_label[:700]\n",
    "\n",
    "val_x = train_data[700:1000]\n",
    "val_y = train_label[700:1000]\n",
    "\n",
    "test_x = train_data[1000:]\n",
    "test_y = train_label[1000:]"
   ]
  },
  {
   "cell_type": "code",
   "execution_count": 9,
   "metadata": {},
   "outputs": [
    {
     "name": "stderr",
     "output_type": "stream",
     "text": [
      "WARNING: Logging before flag parsing goes to stderr.\n",
      "W0722 23:53:06.086357 140068096689920 deprecation_wrapper.py:119] From /home/phamhung/Downloads/handle-image/venv/lib/python3.5/site-packages/tflearn/helpers/summarizer.py:9: The name tf.summary.merge is deprecated. Please use tf.compat.v1.summary.merge instead.\n",
      "\n",
      "W0722 23:53:06.087943 140068096689920 deprecation_wrapper.py:119] From /home/phamhung/Downloads/handle-image/venv/lib/python3.5/site-packages/tflearn/helpers/trainer.py:25: The name tf.summary.FileWriter is deprecated. Please use tf.compat.v1.summary.FileWriter instead.\n",
      "\n",
      "W0722 23:53:06.096041 140068096689920 deprecation_wrapper.py:119] From /home/phamhung/Downloads/handle-image/venv/lib/python3.5/site-packages/tflearn/collections.py:13: The name tf.GraphKeys is deprecated. Please use tf.compat.v1.GraphKeys instead.\n",
      "\n",
      "W0722 23:53:06.101427 140068096689920 deprecation_wrapper.py:119] From /home/phamhung/Downloads/handle-image/venv/lib/python3.5/site-packages/tflearn/config.py:123: The name tf.get_collection is deprecated. Please use tf.compat.v1.get_collection instead.\n",
      "\n",
      "W0722 23:53:06.113513 140068096689920 deprecation_wrapper.py:119] From /home/phamhung/Downloads/handle-image/venv/lib/python3.5/site-packages/tflearn/config.py:129: The name tf.add_to_collection is deprecated. Please use tf.compat.v1.add_to_collection instead.\n",
      "\n",
      "W0722 23:53:06.114593 140068096689920 deprecation_wrapper.py:119] From /home/phamhung/Downloads/handle-image/venv/lib/python3.5/site-packages/tflearn/config.py:131: The name tf.assign is deprecated. Please use tf.compat.v1.assign instead.\n",
      "\n"
     ]
    },
    {
     "name": "stdout",
     "output_type": "stream",
     "text": [
      "Scipy not supported!\n"
     ]
    }
   ],
   "source": [
    "import tensorflow as tf\n",
    "import tflearn\n",
    "from tflearn.layers.conv import conv_2d, max_pool_2d\n",
    "from tflearn.layers.core import input_data, dropout, fully_connected\n",
    "from tflearn.layers import regression\n",
    "from tflearn.data_utils import to_categorical"
   ]
  },
  {
   "cell_type": "code",
   "execution_count": 10,
   "metadata": {},
   "outputs": [],
   "source": [
    "BATCH_SIZE = 32\n",
    "IMG_SIZE = 75\n",
    "N_CLASSES = 9\n",
    "LR = 0.001\n",
    "N_EPOCHS = 50"
   ]
  },
  {
   "cell_type": "code",
   "execution_count": 11,
   "metadata": {},
   "outputs": [
    {
     "name": "stderr",
     "output_type": "stream",
     "text": [
      "W0722 23:53:06.179690 140068096689920 deprecation_wrapper.py:119] From /home/phamhung/Downloads/handle-image/venv/lib/python3.5/site-packages/tflearn/layers/core.py:81: The name tf.placeholder is deprecated. Please use tf.compat.v1.placeholder instead.\n",
      "\n",
      "W0722 23:53:06.184627 140068096689920 deprecation.py:506] From /home/phamhung/Downloads/handle-image/venv/lib/python3.5/site-packages/tflearn/initializations.py:119: calling UniformUnitScaling.__init__ (from tensorflow.python.ops.init_ops) with dtype is deprecated and will be removed in a future version.\n",
      "Instructions for updating:\n",
      "Call initializer instance with the dtype argument instead of passing it to the constructor\n",
      "W0722 23:53:06.185550 140068096689920 deprecation.py:323] From /home/phamhung/Downloads/handle-image/venv/lib/python3.5/site-packages/tensorflow/python/util/deprecation.py:507: UniformUnitScaling.__init__ (from tensorflow.python.ops.init_ops) is deprecated and will be removed in a future version.\n",
      "Instructions for updating:\n",
      "Use tf.initializers.variance_scaling instead with distribution=uniform to get equivalent behavior.\n",
      "W0722 23:53:06.228617 140068096689920 deprecation_wrapper.py:119] From /home/phamhung/Downloads/handle-image/venv/lib/python3.5/site-packages/tflearn/layers/conv.py:552: The name tf.nn.max_pool is deprecated. Please use tf.nn.max_pool2d instead.\n",
      "\n",
      "W0722 23:53:06.335906 140068096689920 deprecation.py:506] From /home/phamhung/Downloads/handle-image/venv/lib/python3.5/site-packages/tflearn/initializations.py:174: calling TruncatedNormal.__init__ (from tensorflow.python.ops.init_ops) with dtype is deprecated and will be removed in a future version.\n",
      "Instructions for updating:\n",
      "Call initializer instance with the dtype argument instead of passing it to the constructor\n",
      "W0722 23:53:06.384468 140068096689920 deprecation.py:506] From /home/phamhung/Downloads/handle-image/venv/lib/python3.5/site-packages/tflearn/layers/core.py:239: calling dropout (from tensorflow.python.ops.nn_ops) with keep_prob is deprecated and will be removed in a future version.\n",
      "Instructions for updating:\n",
      "Please use `rate` instead of `keep_prob`. Rate should be set to `rate = 1 - keep_prob`.\n",
      "W0722 23:53:06.430229 140068096689920 deprecation_wrapper.py:119] From /home/phamhung/Downloads/handle-image/venv/lib/python3.5/site-packages/tflearn/optimizers.py:238: The name tf.train.AdamOptimizer is deprecated. Please use tf.compat.v1.train.AdamOptimizer instead.\n",
      "\n",
      "W0722 23:53:06.443355 140068096689920 deprecation.py:506] From /home/phamhung/Downloads/handle-image/venv/lib/python3.5/site-packages/tflearn/objectives.py:66: calling reduce_sum_v1 (from tensorflow.python.ops.math_ops) with keep_dims is deprecated and will be removed in a future version.\n",
      "Instructions for updating:\n",
      "keep_dims is deprecated, use keepdims instead\n",
      "W0722 23:53:06.557974 140068096689920 deprecation_wrapper.py:119] From /home/phamhung/Downloads/handle-image/venv/lib/python3.5/site-packages/tflearn/summaries.py:46: The name tf.summary.scalar is deprecated. Please use tf.compat.v1.summary.scalar instead.\n",
      "\n",
      "W0722 23:53:06.622285 140068096689920 deprecation.py:323] From /home/phamhung/Downloads/handle-image/venv/lib/python3.5/site-packages/tensorflow/python/ops/math_grad.py:1250: add_dispatch_support.<locals>.wrapper (from tensorflow.python.ops.array_ops) is deprecated and will be removed in a future version.\n",
      "Instructions for updating:\n",
      "Use tf.where in 2.0, which has the same broadcast rule as np.where\n",
      "W0722 23:53:07.054805 140068096689920 deprecation_wrapper.py:119] From /home/phamhung/Downloads/handle-image/venv/lib/python3.5/site-packages/tflearn/helpers/trainer.py:134: The name tf.train.Saver is deprecated. Please use tf.compat.v1.train.Saver instead.\n",
      "\n"
     ]
    }
   ],
   "source": [
    "tf.reset_default_graph()\n",
    "\n",
    "network = input_data(shape=[None, IMG_SIZE, IMG_SIZE, 1]) #1\n",
    "\n",
    "network = conv_2d(network, 32, 3, activation='relu') #2\n",
    "network = max_pool_2d(network, 2) #3\n",
    "\n",
    "network = conv_2d(network, 64, 3, activation='relu')\n",
    "network = max_pool_2d(network, 2)\n",
    "\n",
    "network = conv_2d(network, 32, 3, activation='relu')\n",
    "network = max_pool_2d(network, 2)\n",
    "\n",
    "network = conv_2d(network, 64, 3, activation='relu')\n",
    "network = max_pool_2d(network, 2)\n",
    "\n",
    "network = conv_2d(network, 32, 3, activation='relu')\n",
    "network = max_pool_2d(network, 2)\n",
    "\n",
    "network = conv_2d(network, 64, 3, activation='relu')\n",
    "network = max_pool_2d(network, 2)\n",
    "\n",
    "network = fully_connected(network, 1024, activation='relu') #4\n",
    "network = dropout(network, 0.8) #5\n",
    "\n",
    "network = fully_connected(network, N_CLASSES, activation='softmax')#6\n",
    "network = regression(network)\n",
    "\n",
    "model = tflearn.DNN(network) #7"
   ]
  },
  {
   "cell_type": "code",
   "execution_count": 12,
   "metadata": {},
   "outputs": [],
   "source": [
    "train_x = train_x.reshape(-1, IMG_SIZE, IMG_SIZE, 1)\n",
    "val_x = val_x.reshape(-1, IMG_SIZE, IMG_SIZE, 1)\n",
    "test_x = test_x.reshape(-1, IMG_SIZE, IMG_SIZE, 1)"
   ]
  },
  {
   "cell_type": "code",
   "execution_count": 13,
   "metadata": {},
   "outputs": [],
   "source": [
    "original_test_y = test_y # được sử dụng để test ở bước sau\n",
    "\n",
    "train_y = to_categorical(train_y, N_CLASSES)\n",
    "val_y = to_categorical(val_y, N_CLASSES)\n",
    "test_y = to_categorical(test_y, N_CLASSES)\n"
   ]
  },
  {
   "cell_type": "code",
   "execution_count": 14,
   "metadata": {},
   "outputs": [
    {
     "name": "stdout",
     "output_type": "stream",
     "text": [
      "Training Step: 549  | total loss: \u001b[1m\u001b[32m0.24070\u001b[0m\u001b[0m | time: 6.040s\n",
      "| Adam | epoch: 050 | loss: 0.24070 - acc: 0.9795 -- iter: 640/700\n",
      "Training Step: 550  | total loss: \u001b[1m\u001b[32m0.21696\u001b[0m\u001b[0m | time: 7.568s\n",
      "| Adam | epoch: 050 | loss: 0.21696 - acc: 0.9815 | val_loss: 0.28598 - val_acc: 0.9467 -- iter: 700/700\n",
      "--\n"
     ]
    }
   ],
   "source": [
    "model.fit(train_x, train_y, n_epoch=N_EPOCHS, validation_set=(val_x, val_y), show_metric=True)\n",
    "model.save('mymodel.tflearn')"
   ]
  },
  {
   "cell_type": "code",
   "execution_count": 20,
   "metadata": {},
   "outputs": [
    {
     "name": "stdout",
     "output_type": "stream",
     "text": [
      "[6]\n"
     ]
    }
   ],
   "source": [
    "model.load('mymodel.tflearn')\n",
    "img = cv2.imread(\"datasets/6/20491.png\",0)\n",
    "img = img.reshape(-1, 75, 75, 1)\n",
    "result = model.predict(img)\n",
    "result = np.argmax(result, axis=-1)\n",
    "print(result)"
   ]
  },
  {
   "cell_type": "code",
   "execution_count": null,
   "metadata": {},
   "outputs": [],
   "source": []
  },
  {
   "cell_type": "code",
   "execution_count": null,
   "metadata": {},
   "outputs": [],
   "source": []
  }
 ],
 "metadata": {
  "kernelspec": {
   "display_name": "Python 3",
   "language": "python",
   "name": "python3"
  },
  "language_info": {
   "codemirror_mode": {
    "name": "ipython",
    "version": 3
   },
   "file_extension": ".py",
   "mimetype": "text/x-python",
   "name": "python",
   "nbconvert_exporter": "python",
   "pygments_lexer": "ipython3",
   "version": "3.5.2"
  }
 },
 "nbformat": 4,
 "nbformat_minor": 2
}
