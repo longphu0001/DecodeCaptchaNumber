{
 "cells": [
  {
   "cell_type": "code",
   "execution_count": 1,
   "metadata": {},
   "outputs": [],
   "source": [
    "import numpy as np\n",
    "import cv2"
   ]
  },
  {
   "cell_type": "code",
   "execution_count": 2,
   "metadata": {},
   "outputs": [],
   "source": [
    "base_url_source = \"images/\"\n",
    "base_url_target = \"datasets/\""
   ]
  },
  {
   "cell_type": "code",
   "execution_count": 4,
   "metadata": {},
   "outputs": [],
   "source": [
    "def find_location(url):\n",
    "    img = cv2.imread(url, 0)\n",
    "    blur = cv2.GaussianBlur(img,(5,5),0)\n",
    "    thresh = cv2.adaptiveThreshold(blur,255,cv2.ADAPTIVE_THRESH_GAUSSIAN_C,cv2.THRESH_BINARY_INV,11,2)\n",
    "\n",
    "    horizal = thresh\n",
    "    vertical = thresh\n",
    "\n",
    "    scale_height = 20\n",
    "    scale_long = 15\n",
    "\n",
    "    long = int(img.shape[1]/scale_long)\n",
    "    height = int(img.shape[0]/scale_height)\n",
    "\n",
    "    horizalStructure = cv2.getStructuringElement(cv2.MORPH_RECT, (long, 1))\n",
    "    horizal = cv2.erode(horizal, horizalStructure, (-1, -1))\n",
    "    horizal = cv2.dilate(horizal, horizalStructure, (-1, -1))\n",
    "\n",
    "    verticalStructure = cv2.getStructuringElement(cv2.MORPH_RECT, (1, height))\n",
    "    vertical = cv2.erode(vertical, verticalStructure, (-1, -1))\n",
    "    vertical = cv2.dilate(vertical, verticalStructure, (-1, -1))\n",
    "\n",
    "    mask = vertical + horizal\n",
    "\n",
    "    contours, hierarchy = cv2.findContours(mask,cv2.RETR_EXTERNAL,cv2.CHAIN_APPROX_SIMPLE)\n",
    "\n",
    "    table = []\n",
    "\n",
    "    for cnt in contours:\n",
    "        x, y, w, h = cv2.boundingRect(cnt)\n",
    "        #print((x,y,w,h))\n",
    "        if h > 1 and w > 1:\n",
    "            square = cv2.contourArea(cnt)\n",
    "            table.append((square,x,y,w,h))\n",
    "\n",
    "    table.sort(reverse=True)\n",
    "    #print(table[0])\n",
    "    return table[0]"
   ]
  },
  {
   "cell_type": "code",
   "execution_count": 6,
   "metadata": {},
   "outputs": [],
   "source": [
    "url_image = base_url_source+\"45.png\"\n",
    "delta = 3\n",
    "location = find_location(\"images/45.png\")\n",
    "start = location[1]+delta\n",
    "diff = int((location[3] - 2*delta)/5)"
   ]
  },
  {
   "cell_type": "code",
   "execution_count": null,
   "metadata": {},
   "outputs": [],
   "source": []
  }
 ],
 "metadata": {
  "kernelspec": {
   "display_name": "Python 3",
   "language": "python",
   "name": "python3"
  },
  "language_info": {
   "codemirror_mode": {
    "name": "ipython",
    "version": 3
   },
   "file_extension": ".py",
   "mimetype": "text/x-python",
   "name": "python",
   "nbconvert_exporter": "python",
   "pygments_lexer": "ipython3",
   "version": "3.5.2"
  }
 },
 "nbformat": 4,
 "nbformat_minor": 2
}
